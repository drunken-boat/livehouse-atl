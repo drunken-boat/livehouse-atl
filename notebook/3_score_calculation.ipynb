{
 "cells": [
  {
   "cell_type": "markdown",
   "metadata": {},
   "source": []
  },
  {
   "cell_type": "code",
   "execution_count": 5,
   "metadata": {},
   "outputs": [],
   "source": [
    "import geopandas as gpd\n",
    "import pandas as pd\n"
   ]
  },
  {
   "cell_type": "code",
   "execution_count": null,
   "metadata": {},
   "outputs": [],
   "source": [
    "\n",
    "gdf = gpd.read_file('/Users/rainylty/STUDY/fall23/transport-and-gis/livehouse-atl/data/raw/transport_census.geojson')\n"
   ]
  },
  {
   "cell_type": "code",
   "execution_count": 8,
   "metadata": {},
   "outputs": [],
   "source": [
    "\n",
    "# Perform the quantile cut on the 'monthly_cost' column\n",
    "gdf['monthly_housing_costE'] = gdf['monthly_housing_costE'].fillna(0)\n",
    "gdf['housing_cost_score'] = pd.qcut(gdf['monthly_housing_costE'], 5, labels=[1, 2, 3, 4, 5]).astype(int)\n",
    "\n",
    "gdf['hhincomeE'] = gdf['hhincomeE'].fillna(0)\n",
    "gdf['income_score'] = pd.qcut(gdf['hhincomeE'], 5, labels=[1, 2, 3, 4, 5]).astype(int)\n"
   ]
  },
  {
   "cell_type": "code",
   "execution_count": 11,
   "metadata": {},
   "outputs": [],
   "source": [
    "def assign_score(age):\n",
    "    if 25 <= age < 35:\n",
    "        return 4\n",
    "    elif 18 <= age < 25:\n",
    "        return 3\n",
    "    elif 35 <= age < 44:\n",
    "        return 2\n",
    "    else:\n",
    "        return 1\n",
    "\n",
    "\n",
    "gdf['age_score'] = gdf['median_ageE'].apply(assign_score)\n",
    "\n",
    "# add up the scores to get a final score\n",
    "gdf['score'] = gdf['age_score'] + gdf['income_score'] + gdf['housing_cost_score']"
   ]
  },
  {
   "cell_type": "code",
   "execution_count": 12,
   "metadata": {},
   "outputs": [],
   "source": [
    "\n",
    "# save back\n",
    "gdf.to_file(\"/Users/rainylty/STUDY/fall23/transport-and-gis/livehouse-atl/data/processed/transport_census.geojson\", driver='GeoJSON')"
   ]
  }
 ],
 "metadata": {
  "kernelspec": {
   "display_name": "cp6542",
   "language": "python",
   "name": "python3"
  },
  "language_info": {
   "codemirror_mode": {
    "name": "ipython",
    "version": 3
   },
   "file_extension": ".py",
   "mimetype": "text/x-python",
   "name": "python",
   "nbconvert_exporter": "python",
   "pygments_lexer": "ipython3",
   "version": "3.11.5"
  }
 },
 "nbformat": 4,
 "nbformat_minor": 2
}
